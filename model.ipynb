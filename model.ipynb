{
 "cells": [
  {
   "cell_type": "markdown",
   "id": "24a22168",
   "metadata": {
    "papermill": {
     "duration": 0.005974,
     "end_time": "2024-04-16T07:04:07.242439",
     "exception": false,
     "start_time": "2024-04-16T07:04:07.236465",
     "status": "completed"
    },
    "tags": []
   },
   "source": [
    "Importing libraries"
   ]
  },
  {
   "cell_type": "code",
   "execution_count": 1,
   "id": "e81236bf",
   "metadata": {
    "execution": {
     "iopub.execute_input": "2024-04-16T07:04:07.256898Z",
     "iopub.status.busy": "2024-04-16T07:04:07.255854Z",
     "iopub.status.idle": "2024-04-16T07:04:10.485929Z",
     "shell.execute_reply": "2024-04-16T07:04:10.484596Z"
    },
    "papermill": {
     "duration": 3.24115,
     "end_time": "2024-04-16T07:04:10.489470",
     "exception": false,
     "start_time": "2024-04-16T07:04:07.248320",
     "status": "completed"
    },
    "tags": []
   },
   "outputs": [],
   "source": [
    "import nltk\n",
    "import numpy as np\n",
    "import pandas as pd\n",
    "from nltk.corpus import twitter_samples \n",
    "import re\n",
    "import string\n",
    "from nltk.corpus import stopwords\n",
    "from nltk.stem import PorterStemmer\n",
    "from nltk.tokenize import TweetTokenizer\n",
    "import matplotlib.pyplot as plt\n",
    "from sklearn.linear_model import LogisticRegression\n",
    "from sklearn.metrics import accuracy_score, classification_report, confusion_matrix, roc_curve, auc"
   ]
  },
  {
   "cell_type": "code",
   "execution_count": 2,
   "id": "b6d17477",
   "metadata": {
    "execution": {
     "iopub.execute_input": "2024-04-16T07:04:10.503557Z",
     "iopub.status.busy": "2024-04-16T07:04:10.502411Z",
     "iopub.status.idle": "2024-04-16T07:04:11.532813Z",
     "shell.execute_reply": "2024-04-16T07:04:11.531547Z"
    },
    "papermill": {
     "duration": 1.041048,
     "end_time": "2024-04-16T07:04:11.536004",
     "exception": false,
     "start_time": "2024-04-16T07:04:10.494956",
     "status": "completed"
    },
    "tags": []
   },
   "outputs": [],
   "source": [
    "all_positive_tweets = twitter_samples.strings('positive_tweets.json') \n",
    "all_negative_tweets = twitter_samples.strings('negative_tweets.json')"
   ]
  },
  {
   "cell_type": "code",
   "execution_count": 3,
   "id": "06fbe468",
   "metadata": {
    "execution": {
     "iopub.execute_input": "2024-04-16T07:04:11.548844Z",
     "iopub.status.busy": "2024-04-16T07:04:11.548345Z",
     "iopub.status.idle": "2024-04-16T07:04:11.728826Z",
     "shell.execute_reply": "2024-04-16T07:04:11.726688Z"
    },
    "papermill": {
     "duration": 0.19215,
     "end_time": "2024-04-16T07:04:11.733572",
     "exception": false,
     "start_time": "2024-04-16T07:04:11.541422",
     "status": "completed"
    },
    "tags": []
   },
   "outputs": [
    {
     "data": {
      "image/png": "[encoded data removed]",
      "text/plain": [
       "<Figure size 640x480 with 1 Axes>"
      ]
     },
     "metadata": {},
     "output_type": "display_data"
    }
   ],
   "source": [
    "fig = plt.figure()\n",
    "\n",
    "labels = 'Positives', 'Negative'\n",
    "\n",
    "sizes = [len(all_positive_tweets), len(all_negative_tweets)] \n",
    "plt.pie(sizes, labels=labels,  startangle=90)\n",
    "plt.axis('equal')  \n",
    "plt.show()"
   ]
  },
  {
   "cell_type": "code",
   "execution_count": 4,
   "id": "79879b4b",
   "metadata": {
    "execution": {
     "iopub.execute_input": "2024-04-16T07:04:11.761037Z",
     "iopub.status.busy": "2024-04-16T07:04:11.758868Z",
     "iopub.status.idle": "2024-04-16T07:04:11.773311Z",
     "shell.execute_reply": "2024-04-16T07:04:11.771698Z"
    },
    "papermill": {
     "duration": 0.032021,
     "end_time": "2024-04-16T07:04:11.777128",
     "exception": false,
     "start_time": "2024-04-16T07:04:11.745107",
     "status": "completed"
    },
    "tags": []
   },
   "outputs": [],
   "source": [
    "test_pos = all_positive_tweets[4000:]\n",
    "train_pos = all_positive_tweets[:4000]\n",
    "test_neg = all_negative_tweets[4000:]\n",
    "train_neg = all_negative_tweets[:4000]\n",
    "\n",
    "train_x = train_pos + train_neg \n",
    "test_x = test_pos + test_neg\n",
    "train_y = np.append(np.ones((len(train_pos), 1)), np.zeros((len(train_neg), 1)))\n",
    "test_y = np.append(np.ones((len(test_pos), 1)), np.zeros((len(test_neg), 1)))"
   ]
  },
  {
   "cell_type": "code",
   "execution_count": 5,
   "id": "64d7e83e",
   "metadata": {
    "execution": {
     "iopub.execute_input": "2024-04-16T07:04:11.791151Z",
     "iopub.status.busy": "2024-04-16T07:04:11.789763Z",
     "iopub.status.idle": "2024-04-16T07:04:11.799131Z",
     "shell.execute_reply": "2024-04-16T07:04:11.798211Z"
    },
    "papermill": {
     "duration": 0.018985,
     "end_time": "2024-04-16T07:04:11.801631",
     "exception": false,
     "start_time": "2024-04-16T07:04:11.782646",
     "status": "completed"
    },
    "tags": []
   },
   "outputs": [],
   "source": [
    "def process_tweet(tweet):\n",
    "    stemmer = PorterStemmer()\n",
    "    stopwords_english = stopwords.words('english')\n",
    "    tweet = re.sub(r'\\$\\w*', '', tweet)\n",
    "    tweet = re.sub(r'^RT[\\s]+', '', tweet)\n",
    "    tweet = re.sub(r'https?:\\/\\/.*[\\r\\n]*', '', tweet)\n",
    "    tweet = re.sub(r'#', '', tweet)\n",
    "    tokenizer = TweetTokenizer(preserve_case=False, strip_handles=True,\n",
    "                               reduce_len=True)\n",
    "    tweet_tokens = tokenizer.tokenize(tweet)\n",
    "\n",
    "    tweets_clean = []\n",
    "    for word in tweet_tokens:\n",
    "        if (word not in stopwords_english and  \n",
    "                word not in string.punctuation):  \n",
    "            stem_word = stemmer.stem(word)  \n",
    "            tweets_clean.append(stem_word)\n",
    "\n",
    "    return tweets_clean"
   ]
  },
  {
   "cell_type": "code",
   "execution_count": 6,
   "id": "562d386d",
   "metadata": {
    "execution": {
     "iopub.execute_input": "2024-04-16T07:04:11.815531Z",
     "iopub.status.busy": "2024-04-16T07:04:11.814313Z",
     "iopub.status.idle": "2024-04-16T07:04:11.828874Z",
     "shell.execute_reply": "2024-04-16T07:04:11.827147Z"
    },
    "papermill": {
     "duration": 0.024581,
     "end_time": "2024-04-16T07:04:11.831899",
     "exception": false,
     "start_time": "2024-04-16T07:04:11.807318",
     "status": "completed"
    },
    "tags": []
   },
   "outputs": [
    {
     "name": "stdout",
     "output_type": "stream",
     "text": [
      "Before preprocessing\n",
      "#FollowFriday @France_Inte @PKuchly57 @Milipol_Paris for being top engaged members in my community this week :)\n",
      "After preprocessing\n",
      "['followfriday', 'top', 'engag', 'member', 'commun', 'week', ':)']\n"
     ]
    }
   ],
   "source": [
    "print(\"Before preprocessing\")\n",
    "print(all_positive_tweets[0])\n",
    "print(\"After preprocessing\")\n",
    "res=process_tweet(all_positive_tweets[0])\n",
    "print(res)"
   ]
  },
  {
   "cell_type": "code",
   "execution_count": 7,
   "id": "7a622ade",
   "metadata": {
    "execution": {
     "iopub.execute_input": "2024-04-16T07:04:11.846286Z",
     "iopub.status.busy": "2024-04-16T07:04:11.844905Z",
     "iopub.status.idle": "2024-04-16T07:04:11.852093Z",
     "shell.execute_reply": "2024-04-16T07:04:11.851175Z"
    },
    "papermill": {
     "duration": 0.016776,
     "end_time": "2024-04-16T07:04:11.854426",
     "exception": false,
     "start_time": "2024-04-16T07:04:11.837650",
     "status": "completed"
    },
    "tags": []
   },
   "outputs": [],
   "source": [
    "def build_freqs(tweets, ys):\n",
    "    yslist = np.squeeze(ys).tolist()\n",
    "    freqs = {}\n",
    "    for y, tweet in zip(yslist, tweets):\n",
    "        for word in process_tweet(tweet):\n",
    "            pair = (word, y)\n",
    "            if pair in freqs:\n",
    "                freqs[pair] += 1\n",
    "            else:\n",
    "                freqs[pair] = 1\n",
    "\n",
    "    return freqs"
   ]
  },
  {
   "cell_type": "code",
   "execution_count": 8,
   "id": "67478047",
   "metadata": {
    "execution": {
     "iopub.execute_input": "2024-04-16T07:04:11.869230Z",
     "iopub.status.busy": "2024-04-16T07:04:11.867968Z",
     "iopub.status.idle": "2024-04-16T07:04:16.438303Z",
     "shell.execute_reply": "2024-04-16T07:04:16.437016Z"
    },
    "papermill": {
     "duration": 4.580698,
     "end_time": "2024-04-16T07:04:16.441216",
     "exception": false,
     "start_time": "2024-04-16T07:04:11.860518",
     "status": "completed"
    },
    "tags": []
   },
   "outputs": [],
   "source": [
    "freqs = build_freqs(train_x, train_y)"
   ]
  },
  {
   "cell_type": "code",
   "execution_count": 9,
   "id": "3bd56b20",
   "metadata": {
    "execution": {
     "iopub.execute_input": "2024-04-16T07:04:16.454562Z",
     "iopub.status.busy": "2024-04-16T07:04:16.454041Z",
     "iopub.status.idle": "2024-04-16T07:04:16.462276Z",
     "shell.execute_reply": "2024-04-16T07:04:16.461084Z"
    },
    "papermill": {
     "duration": 0.01786,
     "end_time": "2024-04-16T07:04:16.464762",
     "exception": false,
     "start_time": "2024-04-16T07:04:16.446902",
     "status": "completed"
    },
    "tags": []
   },
   "outputs": [],
   "source": [
    "def extract_features(tweet, freqs):\n",
    "    word_l = process_tweet(tweet)\n",
    "    x = np.zeros((1, 3)) \n",
    "    x[0,0] = 1 \n",
    "    for word in word_l:\n",
    "        x[0,1] += freqs.get((word, 1.0),0)\n",
    "        x[0,2] += freqs.get((word, 0.0),0)\n",
    "         \n",
    "    assert(x.shape == (1, 3))\n",
    "    return x"
   ]
  },
  {
   "cell_type": "code",
   "execution_count": 10,
   "id": "1c3b1448",
   "metadata": {
    "execution": {
     "iopub.execute_input": "2024-04-16T07:04:16.477891Z",
     "iopub.status.busy": "2024-04-16T07:04:16.477364Z",
     "iopub.status.idle": "2024-04-16T07:04:21.415388Z",
     "shell.execute_reply": "2024-04-16T07:04:21.414235Z"
    },
    "papermill": {
     "duration": 4.94882,
     "end_time": "2024-04-16T07:04:21.419070",
     "exception": false,
     "start_time": "2024-04-16T07:04:16.470250",
     "status": "completed"
    },
    "tags": []
   },
   "outputs": [
    {
     "data": {
      "text/html": [
       "<style>#sk-container-id-1 {color: black;background-color: white;}#sk-container-id-1 pre{padding: 0;}#sk-container-id-1 div.sk-toggleable {background-color: white;}#sk-container-id-1 label.sk-toggleable__label {cursor: pointer;display: block;width: 100%;margin-bottom: 0;padding: 0.3em;box-sizing: border-box;text-align: center;}#sk-container-id-1 label.sk-toggleable__label-arrow:before {content: \"▸\";float: left;margin-right: 0.25em;color: #696969;}#sk-container-id-1 label.sk-toggleable__label-arrow:hover:before {color: black;}#sk-container-id-1 div.sk-estimator:hover label.sk-toggleable__label-arrow:before {color: black;}#sk-container-id-1 div.sk-toggleable__content {max-height: 0;max-width: 0;overflow: hidden;text-align: left;background-color: #f0f8ff;}#sk-container-id-1 div.sk-toggleable__content pre {margin: 0.2em;color: black;border-radius: 0.25em;background-color: #f0f8ff;}#sk-container-id-1 input.sk-toggleable__control:checked~div.sk-toggleable__content {max-height: 200px;max-width: 100%;overflow: auto;}#sk-container-id-1 input.sk-toggleable__control:checked~label.sk-toggleable__label-arrow:before {content: \"▾\";}#sk-container-id-1 div.sk-estimator input.sk-toggleable__control:checked~label.sk-toggleable__label {background-color: #d4ebff;}#sk-container-id-1 div.sk-label input.sk-toggleable__control:checked~label.sk-toggleable__label {background-color: #d4ebff;}#sk-container-id-1 input.sk-hidden--visually {border: 0;clip: rect(1px 1px 1px 1px);clip: rect(1px, 1px, 1px, 1px);height: 1px;margin: -1px;overflow: hidden;padding: 0;position: absolute;width: 1px;}#sk-container-id-1 div.sk-estimator {font-family: monospace;background-color: #f0f8ff;border: 1px dotted black;border-radius: 0.25em;box-sizing: border-box;margin-bottom: 0.5em;}#sk-container-id-1 div.sk-estimator:hover {background-color: #d4ebff;}#sk-container-id-1 div.sk-parallel-item::after {content: \"\";width: 100%;border-bottom: 1px solid gray;flex-grow: 1;}#sk-container-id-1 div.sk-label:hover label.sk-toggleable__label {background-color: #d4ebff;}#sk-container-id-1 div.sk-serial::before {content: \"\";position: absolute;border-left: 1px solid gray;box-sizing: border-box;top: 0;bottom: 0;left: 50%;z-index: 0;}#sk-container-id-1 div.sk-serial {display: flex;flex-direction: column;align-items: center;background-color: white;padding-right: 0.2em;padding-left: 0.2em;position: relative;}#sk-container-id-1 div.sk-item {position: relative;z-index: 1;}#sk-container-id-1 div.sk-parallel {display: flex;align-items: stretch;justify-content: center;background-color: white;position: relative;}#sk-container-id-1 div.sk-item::before, #sk-container-id-1 div.sk-parallel-item::before {content: \"\";position: absolute;border-left: 1px solid gray;box-sizing: border-box;top: 0;bottom: 0;left: 50%;z-index: -1;}#sk-container-id-1 div.sk-parallel-item {display: flex;flex-direction: column;z-index: 1;position: relative;background-color: white;}#sk-container-id-1 div.sk-parallel-item:first-child::after {align-self: flex-end;width: 50%;}#sk-container-id-1 div.sk-parallel-item:last-child::after {align-self: flex-start;width: 50%;}#sk-container-id-1 div.sk-parallel-item:only-child::after {width: 0;}#sk-container-id-1 div.sk-dashed-wrapped {border: 1px dashed gray;margin: 0 0.4em 0.5em 0.4em;box-sizing: border-box;padding-bottom: 0.4em;background-color: white;}#sk-container-id-1 div.sk-label label {font-family: monospace;font-weight: bold;display: inline-block;line-height: 1.2em;}#sk-container-id-1 div.sk-label-container {text-align: center;}#sk-container-id-1 div.sk-container {/* jupyter's `normalize.less` sets `[hidden] { display: none; }` but bootstrap.min.css set `[hidden] { display: none !important; }` so we also need the `!important` here to be able to override the default hidden behavior on the sphinx rendered scikit-learn.org. See: https://github.com/scikit-learn/scikit-learn/issues/21755 */display: inline-block !important;position: relative;}#sk-container-id-1 div.sk-text-repr-fallback {display: none;}</style><div id=\"sk-container-id-1\" class=\"sk-top-container\"><div class=\"sk-text-repr-fallback\"><pre>LogisticRegression()</pre><b>In a Jupyter environment, please rerun this cell to show the HTML representation or trust the notebook. <br />On GitHub, the HTML representation is unable to render, please try loading this page with nbviewer.org.</b></div><div class=\"sk-container\" hidden><div class=\"sk-item\"><div class=\"sk-estimator sk-toggleable\"><input class=\"sk-toggleable__control sk-hidden--visually\" id=\"sk-estimator-id-1\" type=\"checkbox\" checked><label for=\"sk-estimator-id-1\" class=\"sk-toggleable__label sk-toggleable__label-arrow\">LogisticRegression</label><div class=\"sk-toggleable__content\"><pre>LogisticRegression()</pre></div></div></div></div></div>"
      ],
      "text/plain": [
       "LogisticRegression()"
      ]
     },
     "execution_count": 10,
     "metadata": {},
     "output_type": "execute_result"
    }
   ],
   "source": [
    "X = np.zeros((len(train_x), 3))\n",
    "for i in range(len(train_x)):\n",
    "    X[i, :]= extract_features(train_x[i], freqs)\n",
    "Y = train_y\n",
    "model = LogisticRegression()\n",
    "model.fit(X,Y)"
   ]
  },
  {
   "cell_type": "code",
   "execution_count": 11,
   "id": "2592c74a",
   "metadata": {
    "execution": {
     "iopub.execute_input": "2024-04-16T07:04:21.447548Z",
     "iopub.status.busy": "2024-04-16T07:04:21.446852Z",
     "iopub.status.idle": "2024-04-16T07:04:22.713540Z",
     "shell.execute_reply": "2024-04-16T07:04:22.712367Z"
    },
    "papermill": {
     "duration": 1.284624,
     "end_time": "2024-04-16T07:04:22.716227",
     "exception": false,
     "start_time": "2024-04-16T07:04:21.431603",
     "status": "completed"
    },
    "tags": []
   },
   "outputs": [
    {
     "name": "stdout",
     "output_type": "stream",
     "text": [
      "Accuracy: 99.15%\n"
     ]
    }
   ],
   "source": [
    "Y = np.zeros((len(test_x), 3))\n",
    "for i in range(len(test_x)):\n",
    "    Y[i, :]= extract_features(test_x[i], freqs)\n",
    "pred_y=model.predict(Y)\n",
    "accuracy = accuracy_score(test_y, pred_y)\n",
    "print(\"Accuracy: {:.2f}%\".format(accuracy * 100))"
   ]
  },
  {
   "cell_type": "code",
   "execution_count": 12,
   "id": "dde126ab",
   "metadata": {
    "execution": {
     "iopub.execute_input": "2024-04-16T07:04:22.731119Z",
     "iopub.status.busy": "2024-04-16T07:04:22.730627Z",
     "iopub.status.idle": "2024-04-16T07:04:22.740252Z",
     "shell.execute_reply": "2024-04-16T07:04:22.738988Z"
    },
    "papermill": {
     "duration": 0.02069,
     "end_time": "2024-04-16T07:04:22.743179",
     "exception": false,
     "start_time": "2024-04-16T07:04:22.722489",
     "status": "completed"
    },
    "tags": []
   },
   "outputs": [
    {
     "name": "stdout",
     "output_type": "stream",
     "text": [
      "[1.]\n"
     ]
    }
   ],
   "source": [
    "print(model.predict(extract_features(\"the sky looks fresh\",freqs)))"
   ]
  }
 ],
 "metadata": {
  "kaggle": {
   "accelerator": "none",
   "dataSources": [],
   "dockerImageVersionId": 30626,
   "isGpuEnabled": false,
   "isInternetEnabled": true,
   "language": "python",
   "sourceType": "notebook"
  },
  "kernelspec": {
   "display_name": "Python 3",
   "language": "python",
   "name": "python3"
  },
  "language_info": {
   "codemirror_mode": {
    "name": "ipython",
    "version": 3
   },
   "file_extension": ".py",
   "mimetype": "text/x-python",
   "name": "python",
   "nbconvert_exporter": "python",
   "pygments_lexer": "ipython3",
   "version": "3.10.12"
  },
  "papermill": {
   "default_parameters": {},
   "duration": 20.833837,
   "end_time": "2024-04-16T07:04:23.474621",
   "environment_variables": {},
   "exception": null,
   "input_path": "__notebook__.ipynb",
   "output_path": "__notebook__.ipynb",
   "parameters": {},
   "start_time": "2024-04-16T07:04:02.640784",
   "version": "2.4.0"
  }
 },
 "nbformat": 4,
 "nbformat_minor": 5
}
